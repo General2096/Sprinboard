{
 "cells": [
  {
   "cell_type": "code",
   "execution_count": 1,
   "id": "f9019065",
   "metadata": {},
   "outputs": [],
   "source": [
    "# First import the libraries that we need to use\n",
    "import pandas as pd\n",
    "import requests\n",
    "import json"
   ]
  },
  {
   "cell_type": "code",
   "execution_count": 2,
   "id": "b9275dac",
   "metadata": {},
   "outputs": [],
   "source": [
    "def fetch_daily_data(symbol):\n",
    "    pair_split = symbol.split('/')  # symbol must be in format XXX/XXX ie. BTC/EUR\n",
    "    symbol = pair_split[0] + '-' + pair_split[1]\n",
    "    url = f'https://api.pro.coinbase.com/products/{symbol}/candles?granularity=86400'\n",
    "    response = requests.get(url)\n",
    "    if response.status_code == 200:  # check to make sure the response from server is good\n",
    "        data = pd.DataFrame(json.loads(response.text), columns=['unix', 'low', 'high', 'open', 'close', 'volume'])\n",
    "        data['date'] = pd.to_datetime(data['unix'], unit='s')  # convert to a readable date\n",
    "        data['vol_fiat'] = data['volume'] * data['close']      # multiply the BTC volume by closing price to approximate fiat volume\n",
    "\n",
    "        # if we failed to get any data, print an error...otherwise write the file\n",
    "        if data is None:\n",
    "            print(\"Did not return any data from Coinbase for this symbol\")\n",
    "        else:\n",
    "            data.to_csv(f'Coinbase_{pair_split[0] + pair_split[1]}_dailydata.csv', index=False)\n",
    "\n",
    "    else:\n",
    "        print(\"Did not receieve OK response from Coinbase API\")"
   ]
  },
  {
   "cell_type": "code",
   "execution_count": 3,
   "id": "02a3e0e0",
   "metadata": {},
   "outputs": [],
   "source": [
    "if __name__ == \"__main__\":\n",
    "    # we set which pair we want to retrieve data for\n",
    "    pair = \"BTC/USD\"\n",
    "    fetch_daily_data(symbol=pair)"
   ]
  },
  {
   "cell_type": "code",
   "execution_count": 4,
   "id": "8db839be",
   "metadata": {},
   "outputs": [],
   "source": [
    "df = pd.read_csv(\"C:/Users/falda/Coinbase_BTCUSD_dailydata.csv\")"
   ]
  },
  {
   "cell_type": "code",
   "execution_count": 5,
   "id": "0a5ac51a",
   "metadata": {},
   "outputs": [
    {
     "data": {
      "text/html": [
       "<div>\n",
       "<style scoped>\n",
       "    .dataframe tbody tr th:only-of-type {\n",
       "        vertical-align: middle;\n",
       "    }\n",
       "\n",
       "    .dataframe tbody tr th {\n",
       "        vertical-align: top;\n",
       "    }\n",
       "\n",
       "    .dataframe thead th {\n",
       "        text-align: right;\n",
       "    }\n",
       "</style>\n",
       "<table border=\"1\" class=\"dataframe\">\n",
       "  <thead>\n",
       "    <tr style=\"text-align: right;\">\n",
       "      <th></th>\n",
       "      <th>unix</th>\n",
       "      <th>low</th>\n",
       "      <th>high</th>\n",
       "      <th>open</th>\n",
       "      <th>close</th>\n",
       "      <th>volume</th>\n",
       "      <th>date</th>\n",
       "      <th>vol_fiat</th>\n",
       "    </tr>\n",
       "  </thead>\n",
       "  <tbody>\n",
       "    <tr>\n",
       "      <th>0</th>\n",
       "      <td>1631750400</td>\n",
       "      <td>47861.99</td>\n",
       "      <td>48217.33</td>\n",
       "      <td>48144.03</td>\n",
       "      <td>47987.13</td>\n",
       "      <td>867.560026</td>\n",
       "      <td>2021-09-16</td>\n",
       "      <td>4.163172e+07</td>\n",
       "    </tr>\n",
       "    <tr>\n",
       "      <th>1</th>\n",
       "      <td>1631664000</td>\n",
       "      <td>46705.00</td>\n",
       "      <td>48475.00</td>\n",
       "      <td>47127.81</td>\n",
       "      <td>48148.12</td>\n",
       "      <td>12139.842066</td>\n",
       "      <td>2021-09-15</td>\n",
       "      <td>5.845106e+08</td>\n",
       "    </tr>\n",
       "    <tr>\n",
       "      <th>2</th>\n",
       "      <td>1631577600</td>\n",
       "      <td>44679.92</td>\n",
       "      <td>47274.92</td>\n",
       "      <td>44953.23</td>\n",
       "      <td>47127.22</td>\n",
       "      <td>12644.164354</td>\n",
       "      <td>2021-09-14</td>\n",
       "      <td>5.958843e+08</td>\n",
       "    </tr>\n",
       "    <tr>\n",
       "      <th>3</th>\n",
       "      <td>1631491200</td>\n",
       "      <td>43465.00</td>\n",
       "      <td>46900.00</td>\n",
       "      <td>46027.80</td>\n",
       "      <td>44947.72</td>\n",
       "      <td>15015.302897</td>\n",
       "      <td>2021-09-13</td>\n",
       "      <td>6.749036e+08</td>\n",
       "    </tr>\n",
       "    <tr>\n",
       "      <th>4</th>\n",
       "      <td>1631404800</td>\n",
       "      <td>44754.31</td>\n",
       "      <td>46462.98</td>\n",
       "      <td>45173.66</td>\n",
       "      <td>46024.23</td>\n",
       "      <td>6499.858217</td>\n",
       "      <td>2021-09-12</td>\n",
       "      <td>2.991510e+08</td>\n",
       "    </tr>\n",
       "  </tbody>\n",
       "</table>\n",
       "</div>"
      ],
      "text/plain": [
       "         unix       low      high      open     close        volume  \\\n",
       "0  1631750400  47861.99  48217.33  48144.03  47987.13    867.560026   \n",
       "1  1631664000  46705.00  48475.00  47127.81  48148.12  12139.842066   \n",
       "2  1631577600  44679.92  47274.92  44953.23  47127.22  12644.164354   \n",
       "3  1631491200  43465.00  46900.00  46027.80  44947.72  15015.302897   \n",
       "4  1631404800  44754.31  46462.98  45173.66  46024.23   6499.858217   \n",
       "\n",
       "         date      vol_fiat  \n",
       "0  2021-09-16  4.163172e+07  \n",
       "1  2021-09-15  5.845106e+08  \n",
       "2  2021-09-14  5.958843e+08  \n",
       "3  2021-09-13  6.749036e+08  \n",
       "4  2021-09-12  2.991510e+08  "
      ]
     },
     "execution_count": 5,
     "metadata": {},
     "output_type": "execute_result"
    }
   ],
   "source": [
    "df.head()"
   ]
  },
  {
   "cell_type": "code",
   "execution_count": null,
   "id": "15392467",
   "metadata": {},
   "outputs": [],
   "source": []
  }
 ],
 "metadata": {
  "kernelspec": {
   "display_name": "Python 3",
   "language": "python",
   "name": "python3"
  },
  "language_info": {
   "codemirror_mode": {
    "name": "ipython",
    "version": 3
   },
   "file_extension": ".py",
   "mimetype": "text/x-python",
   "name": "python",
   "nbconvert_exporter": "python",
   "pygments_lexer": "ipython3",
   "version": "3.8.8"
  }
 },
 "nbformat": 4,
 "nbformat_minor": 5
}
