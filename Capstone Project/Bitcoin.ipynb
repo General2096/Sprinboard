{
 "cells": [
  {
   "cell_type": "code",
   "execution_count": 3,
   "id": "f9019065",
   "metadata": {},
   "outputs": [],
   "source": [
    "# First import the libraries that we need to use\n",
    "import pandas as pd\n",
    "import requests\n",
    "import json\n",
    "from datetime import datetime"
   ]
  },
  {
   "cell_type": "code",
   "execution_count": 5,
   "id": "4a360a4d",
   "metadata": {},
   "outputs": [
    {
     "data": {
      "text/html": [
       "<div>\n",
       "<style scoped>\n",
       "    .dataframe tbody tr th:only-of-type {\n",
       "        vertical-align: middle;\n",
       "    }\n",
       "\n",
       "    .dataframe tbody tr th {\n",
       "        vertical-align: top;\n",
       "    }\n",
       "\n",
       "    .dataframe thead th {\n",
       "        text-align: right;\n",
       "    }\n",
       "</style>\n",
       "<table border=\"1\" class=\"dataframe\">\n",
       "  <thead>\n",
       "    <tr style=\"text-align: right;\">\n",
       "      <th></th>\n",
       "      <th>Date</th>\n",
       "      <th>Open</th>\n",
       "      <th>High</th>\n",
       "      <th>Low</th>\n",
       "      <th>Close</th>\n",
       "      <th>Adj Close</th>\n",
       "      <th>Volume</th>\n",
       "    </tr>\n",
       "  </thead>\n",
       "  <tbody>\n",
       "    <tr>\n",
       "      <th>0</th>\n",
       "      <td>2014-09-17</td>\n",
       "      <td>465.864014</td>\n",
       "      <td>468.174011</td>\n",
       "      <td>452.421997</td>\n",
       "      <td>457.334015</td>\n",
       "      <td>457.334015</td>\n",
       "      <td>2.105680e+07</td>\n",
       "    </tr>\n",
       "    <tr>\n",
       "      <th>1</th>\n",
       "      <td>2014-09-18</td>\n",
       "      <td>456.859985</td>\n",
       "      <td>456.859985</td>\n",
       "      <td>413.104004</td>\n",
       "      <td>424.440002</td>\n",
       "      <td>424.440002</td>\n",
       "      <td>3.448320e+07</td>\n",
       "    </tr>\n",
       "    <tr>\n",
       "      <th>2</th>\n",
       "      <td>2014-09-19</td>\n",
       "      <td>424.102997</td>\n",
       "      <td>427.834991</td>\n",
       "      <td>384.532013</td>\n",
       "      <td>394.795990</td>\n",
       "      <td>394.795990</td>\n",
       "      <td>3.791970e+07</td>\n",
       "    </tr>\n",
       "    <tr>\n",
       "      <th>3</th>\n",
       "      <td>2014-09-20</td>\n",
       "      <td>394.673004</td>\n",
       "      <td>423.295990</td>\n",
       "      <td>389.882996</td>\n",
       "      <td>408.903992</td>\n",
       "      <td>408.903992</td>\n",
       "      <td>3.686360e+07</td>\n",
       "    </tr>\n",
       "    <tr>\n",
       "      <th>4</th>\n",
       "      <td>2014-09-21</td>\n",
       "      <td>408.084991</td>\n",
       "      <td>412.425995</td>\n",
       "      <td>393.181000</td>\n",
       "      <td>398.821014</td>\n",
       "      <td>398.821014</td>\n",
       "      <td>2.658010e+07</td>\n",
       "    </tr>\n",
       "    <tr>\n",
       "      <th>...</th>\n",
       "      <td>...</td>\n",
       "      <td>...</td>\n",
       "      <td>...</td>\n",
       "      <td>...</td>\n",
       "      <td>...</td>\n",
       "      <td>...</td>\n",
       "      <td>...</td>\n",
       "    </tr>\n",
       "    <tr>\n",
       "      <th>2566</th>\n",
       "      <td>2021-09-26</td>\n",
       "      <td>42721.628906</td>\n",
       "      <td>43919.300781</td>\n",
       "      <td>40848.460938</td>\n",
       "      <td>43208.539063</td>\n",
       "      <td>43208.539063</td>\n",
       "      <td>3.066122e+10</td>\n",
       "    </tr>\n",
       "    <tr>\n",
       "      <th>2567</th>\n",
       "      <td>2021-09-27</td>\n",
       "      <td>43234.183594</td>\n",
       "      <td>44313.246094</td>\n",
       "      <td>42190.632813</td>\n",
       "      <td>42235.730469</td>\n",
       "      <td>42235.730469</td>\n",
       "      <td>3.098003e+10</td>\n",
       "    </tr>\n",
       "    <tr>\n",
       "      <th>2568</th>\n",
       "      <td>2021-09-28</td>\n",
       "      <td>42200.898438</td>\n",
       "      <td>42775.144531</td>\n",
       "      <td>40931.664063</td>\n",
       "      <td>41034.542969</td>\n",
       "      <td>41034.542969</td>\n",
       "      <td>3.021494e+10</td>\n",
       "    </tr>\n",
       "    <tr>\n",
       "      <th>2569</th>\n",
       "      <td>2021-09-29</td>\n",
       "      <td>41064.984375</td>\n",
       "      <td>42545.257813</td>\n",
       "      <td>40829.667969</td>\n",
       "      <td>41564.363281</td>\n",
       "      <td>41564.363281</td>\n",
       "      <td>3.060236e+10</td>\n",
       "    </tr>\n",
       "    <tr>\n",
       "      <th>2570</th>\n",
       "      <td>2021-09-30</td>\n",
       "      <td>NaN</td>\n",
       "      <td>NaN</td>\n",
       "      <td>NaN</td>\n",
       "      <td>NaN</td>\n",
       "      <td>NaN</td>\n",
       "      <td>NaN</td>\n",
       "    </tr>\n",
       "  </tbody>\n",
       "</table>\n",
       "<p>2571 rows × 7 columns</p>\n",
       "</div>"
      ],
      "text/plain": [
       "            Date          Open          High           Low         Close  \\\n",
       "0     2014-09-17    465.864014    468.174011    452.421997    457.334015   \n",
       "1     2014-09-18    456.859985    456.859985    413.104004    424.440002   \n",
       "2     2014-09-19    424.102997    427.834991    384.532013    394.795990   \n",
       "3     2014-09-20    394.673004    423.295990    389.882996    408.903992   \n",
       "4     2014-09-21    408.084991    412.425995    393.181000    398.821014   \n",
       "...          ...           ...           ...           ...           ...   \n",
       "2566  2021-09-26  42721.628906  43919.300781  40848.460938  43208.539063   \n",
       "2567  2021-09-27  43234.183594  44313.246094  42190.632813  42235.730469   \n",
       "2568  2021-09-28  42200.898438  42775.144531  40931.664063  41034.542969   \n",
       "2569  2021-09-29  41064.984375  42545.257813  40829.667969  41564.363281   \n",
       "2570  2021-09-30           NaN           NaN           NaN           NaN   \n",
       "\n",
       "         Adj Close        Volume  \n",
       "0       457.334015  2.105680e+07  \n",
       "1       424.440002  3.448320e+07  \n",
       "2       394.795990  3.791970e+07  \n",
       "3       408.903992  3.686360e+07  \n",
       "4       398.821014  2.658010e+07  \n",
       "...            ...           ...  \n",
       "2566  43208.539063  3.066122e+10  \n",
       "2567  42235.730469  3.098003e+10  \n",
       "2568  41034.542969  3.021494e+10  \n",
       "2569  41564.363281  3.060236e+10  \n",
       "2570           NaN           NaN  \n",
       "\n",
       "[2571 rows x 7 columns]"
      ]
     },
     "execution_count": 5,
     "metadata": {},
     "output_type": "execute_result"
    }
   ],
   "source": [
    "bc = pd.read_csv('C:/Users/falda/Downloads/BTC-USD.csv')\n",
    "bc"
   ]
  },
  {
   "cell_type": "code",
   "execution_count": 7,
   "id": "eceb4874",
   "metadata": {},
   "outputs": [
    {
     "data": {
      "text/plain": [
       "Date         0\n",
       "Open         5\n",
       "High         5\n",
       "Low          5\n",
       "Close        5\n",
       "Adj Close    5\n",
       "Volume       5\n",
       "dtype: int64"
      ]
     },
     "execution_count": 7,
     "metadata": {},
     "output_type": "execute_result"
    }
   ],
   "source": [
    "bc.isnull().sum()"
   ]
  },
  {
   "cell_type": "code",
   "execution_count": 17,
   "id": "db35d466",
   "metadata": {},
   "outputs": [
    {
     "name": "stdout",
     "output_type": "stream",
     "text": [
      "            Date  Open  High  Low  Close  Adj Close  Volume\n",
      "2039  2020-04-17   NaN   NaN  NaN    NaN        NaN     NaN\n",
      "2214  2020-10-09   NaN   NaN  NaN    NaN        NaN     NaN\n",
      "2217  2020-10-12   NaN   NaN  NaN    NaN        NaN     NaN\n",
      "2218  2020-10-13   NaN   NaN  NaN    NaN        NaN     NaN\n",
      "2570  2021-09-30   NaN   NaN  NaN    NaN        NaN     NaN\n"
     ]
    }
   ],
   "source": [
    "bc1 = bc[bc.isna().any(axis=1)]\n",
    "print(bc1)"
   ]
  },
  {
   "cell_type": "code",
   "execution_count": 14,
   "id": "1c3f0004",
   "metadata": {},
   "outputs": [],
   "source": [
    "bc2 = bc.dropna()"
   ]
  },
  {
   "cell_type": "code",
   "execution_count": 15,
   "id": "cf11036e",
   "metadata": {},
   "outputs": [
    {
     "name": "stdout",
     "output_type": "stream",
     "text": [
      "            Date          Open          High           Low         Close  \\\n",
      "0     2014-09-17    465.864014    468.174011    452.421997    457.334015   \n",
      "1     2014-09-18    456.859985    456.859985    413.104004    424.440002   \n",
      "2     2014-09-19    424.102997    427.834991    384.532013    394.795990   \n",
      "3     2014-09-20    394.673004    423.295990    389.882996    408.903992   \n",
      "4     2014-09-21    408.084991    412.425995    393.181000    398.821014   \n",
      "...          ...           ...           ...           ...           ...   \n",
      "2565  2021-09-25  42840.890625  42996.257813  41759.921875  42716.593750   \n",
      "2566  2021-09-26  42721.628906  43919.300781  40848.460938  43208.539063   \n",
      "2567  2021-09-27  43234.183594  44313.246094  42190.632813  42235.730469   \n",
      "2568  2021-09-28  42200.898438  42775.144531  40931.664063  41034.542969   \n",
      "2569  2021-09-29  41064.984375  42545.257813  40829.667969  41564.363281   \n",
      "\n",
      "         Adj Close        Volume  \n",
      "0       457.334015  2.105680e+07  \n",
      "1       424.440002  3.448320e+07  \n",
      "2       394.795990  3.791970e+07  \n",
      "3       408.903992  3.686360e+07  \n",
      "4       398.821014  2.658010e+07  \n",
      "...            ...           ...  \n",
      "2565  42716.593750  3.160472e+10  \n",
      "2566  43208.539063  3.066122e+10  \n",
      "2567  42235.730469  3.098003e+10  \n",
      "2568  41034.542969  3.021494e+10  \n",
      "2569  41564.363281  3.060236e+10  \n",
      "\n",
      "[2566 rows x 7 columns]\n"
     ]
    }
   ],
   "source": [
    "print(bc2)"
   ]
  },
  {
   "cell_type": "code",
   "execution_count": null,
   "id": "2cc1b93d",
   "metadata": {},
   "outputs": [],
   "source": []
  }
 ],
 "metadata": {
  "kernelspec": {
   "display_name": "Python 3",
   "language": "python",
   "name": "python3"
  },
  "language_info": {
   "codemirror_mode": {
    "name": "ipython",
    "version": 3
   },
   "file_extension": ".py",
   "mimetype": "text/x-python",
   "name": "python",
   "nbconvert_exporter": "python",
   "pygments_lexer": "ipython3",
   "version": "3.8.8"
  }
 },
 "nbformat": 4,
 "nbformat_minor": 5
}
