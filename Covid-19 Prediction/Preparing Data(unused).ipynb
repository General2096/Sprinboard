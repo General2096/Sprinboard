{
 "cells": [
  {
   "cell_type": "code",
   "execution_count": 1,
   "id": "4f2b3953",
   "metadata": {
    "gradient": {
     "editing": false,
     "execution_count": 1,
     "id": "4f2b3953",
     "kernelId": ""
    }
   },
   "outputs": [],
   "source": [
    "import zipfile"
   ]
  },
  {
   "cell_type": "code",
   "execution_count": 3,
   "id": "178b3332",
   "metadata": {},
   "outputs": [],
   "source": [
    "with zipfile.ZipFile(\"test-normal.zip\",\"r\") as zip_ref:\n",
    "    zip_ref.extractall(\"./\")"
   ]
  },
  {
   "cell_type": "markdown",
   "id": "9816892a",
   "metadata": {
    "gradient": {
     "editing": false,
     "id": "9816892a",
     "kernelId": ""
    }
   },
   "source": [
    "# New Format"
   ]
  },
  {
   "cell_type": "code",
   "execution_count": null,
   "id": "d13fe57d",
   "metadata": {
    "gradient": {
     "editing": false,
     "execution_count": 2,
     "id": "d13fe57d",
     "kernelId": ""
    }
   },
   "outputs": [],
   "source": [
    "with zipfile.ZipFile(\"New Data/test.zip\",\"r\") as zip_ref:\n",
    "    zip_ref.extractall(\"New Data/test-Data\")"
   ]
  },
  {
   "cell_type": "code",
   "execution_count": null,
   "id": "4fd5a3e5",
   "metadata": {
    "gradient": {
     "editing": false,
     "execution_count": 3,
     "id": "4fd5a3e5",
     "kernelId": ""
    }
   },
   "outputs": [],
   "source": [
    "with zipfile.ZipFile(\"New Data/train.zip\",\"r\") as zip_ref:\n",
    "    zip_ref.extractall(\"New Data/train-Data\")"
   ]
  },
  {
   "cell_type": "markdown",
   "id": "06c1dceb",
   "metadata": {
    "gradient": {
     "editing": false,
     "id": "06c1dceb",
     "kernelId": ""
    }
   },
   "source": [
    "# Old Format"
   ]
  },
  {
   "cell_type": "code",
   "execution_count": null,
   "id": "33e4d8ff",
   "metadata": {
    "gradient": {
     "editing": false,
     "execution_count": 2,
     "id": "33e4d8ff",
     "kernelId": ""
    }
   },
   "outputs": [],
   "source": [
    "with zipfile.ZipFile(\"MIDRC-RICORD-1A.zip\",\"r\") as zip_ref:\n",
    "    zip_ref.extractall(\"Covid Data\")"
   ]
  },
  {
   "cell_type": "code",
   "execution_count": null,
   "id": "829ef72a",
   "metadata": {
    "gradient": {
     "editing": false,
     "execution_count": 3,
     "id": "829ef72a",
     "kernelId": ""
    }
   },
   "outputs": [],
   "source": [
    "with zipfile.ZipFile(\"MIDRC-RICORD-1B.zip\",\"r\") as zip_ref:\n",
    "    zip_ref.extractall(\"Covid Data\")"
   ]
  },
  {
   "cell_type": "code",
   "execution_count": null,
   "id": "f971c0f1",
   "metadata": {
    "gradient": {
     "editing": false,
     "execution_count": 10,
     "id": "f971c0f1",
     "kernelId": ""
    }
   },
   "outputs": [],
   "source": [
    "from fastai.vision.all import *\n",
    "from fastai.medical.imaging import *\n",
    "import random"
   ]
  },
  {
   "cell_type": "code",
   "execution_count": null,
   "id": "ece5672c",
   "metadata": {
    "gradient": {
     "editing": false,
     "execution_count": 15,
     "id": "ece5672c",
     "kernelId": ""
    }
   },
   "outputs": [],
   "source": [
    "CP = get_dicom_files('Covid Data/Covid Positive Scans', folders = None)\n",
    "CN = get_dicom_files('Covid Data/Covid Negative Scans', folders = None)"
   ]
  },
  {
   "cell_type": "code",
   "execution_count": null,
   "id": "c9332d83",
   "metadata": {
    "gradient": {
     "editing": false,
     "execution_count": 28,
     "id": "c9332d83",
     "kernelId": ""
    }
   },
   "outputs": [],
   "source": [
    "import random\n",
    "CV_Test_Pos = random.sample(CP, int(len(CP)*.2))\n",
    "CV_Training_Pos = sorted(set(CP) - set(CV_Test_Pos))\n",
    "\n",
    "CV_Test_Neg = random.sample(CN, int(len(CN)*.2))\n",
    "CV_Training_Neg = sorted(set(CN) - set(CV_Test_Neg))"
   ]
  },
  {
   "cell_type": "code",
   "execution_count": null,
   "id": "71018671",
   "metadata": {
    "gradient": {
     "editing": false,
     "execution_count": 29,
     "id": "71018671",
     "kernelId": ""
    }
   },
   "outputs": [],
   "source": [
    "def extract_path_segments(path, sep=os.sep):\n",
    "    file = os.path.basename(path)\n",
    "    \n",
    "    path, filename = os.path.split(os.path.abspath(path))\n",
    "    bottom, rest = path[1:].split(sep, 1)\n",
    "    bottom = sep + bottom\n",
    "    middle, top = os.path.split(rest)\n",
    "    \n",
    "    new_name = str(top) + '-' + str(file)\n",
    "    return (new_name)"
   ]
  },
  {
   "cell_type": "code",
   "execution_count": null,
   "id": "206fca10",
   "metadata": {
    "gradient": {
     "editing": false,
     "execution_count": 30,
     "id": "206fca10",
     "kernelId": ""
    }
   },
   "outputs": [],
   "source": [
    "from shutil import copyfile, copy2\n",
    "import os\n",
    "\n",
    "def filecopy(path, dest):\n",
    "    dg = extract_path_segments(path)\n",
    "    gh = str(dest + '/' + os.path.basename(path))\n",
    "    copy2(str(path), gh)\n",
    "    rename = os.rename(gh,dest + \"/\" + dg)\n",
    "    pass"
   ]
  },
  {
   "cell_type": "code",
   "execution_count": null,
   "id": "0c8a9f66",
   "metadata": {
    "gradient": {
     "editing": false,
     "execution_count": 38,
     "id": "0c8a9f66",
     "kernelId": ""
    }
   },
   "outputs": [],
   "source": [
    "for x in CV_Training_Pos:\n",
    "    filecopy(x,'Covid Data/train/Positive')"
   ]
  },
  {
   "cell_type": "code",
   "execution_count": null,
   "id": "0c5dbd0a",
   "metadata": {
    "gradient": {
     "editing": false,
     "execution_count": 39,
     "id": "0c5dbd0a",
     "kernelId": ""
    }
   },
   "outputs": [],
   "source": [
    "for x in CV_Training_Neg:\n",
    "    filecopy(x,'Covid Data/train/Negative')"
   ]
  },
  {
   "cell_type": "code",
   "execution_count": null,
   "id": "970f4241",
   "metadata": {
    "gradient": {
     "editing": false,
     "execution_count": 41,
     "id": "970f4241",
     "kernelId": ""
    }
   },
   "outputs": [],
   "source": [
    "for x in sorted(CV_Test_Neg):\n",
    "    filecopy(x,'Covid Data/test/Negative')"
   ]
  },
  {
   "cell_type": "code",
   "execution_count": null,
   "id": "216af3bc",
   "metadata": {
    "gradient": {
     "editing": false,
     "execution_count": 42,
     "id": "216af3bc",
     "kernelId": ""
    }
   },
   "outputs": [],
   "source": [
    "for x in sorted(CV_Test_Pos):\n",
    "    filecopy(x,'Covid Data/test/Positive')"
   ]
  },
  {
   "cell_type": "code",
   "execution_count": null,
   "id": "95aec150",
   "metadata": {
    "gradient": {
     "editing": false,
     "id": "95aec150",
     "kernelId": ""
    }
   },
   "outputs": [],
   "source": []
  }
 ],
 "metadata": {
  "kernelspec": {
   "display_name": "Python 3 (ipykernel)",
   "language": "python",
   "name": "python3"
  },
  "language_info": {
   "codemirror_mode": {
    "name": "ipython",
    "version": 3
   },
   "file_extension": ".py",
   "mimetype": "text/x-python",
   "name": "python",
   "nbconvert_exporter": "python",
   "pygments_lexer": "ipython3",
   "version": "3.7.11"
  }
 },
 "nbformat": 4,
 "nbformat_minor": 5
}
