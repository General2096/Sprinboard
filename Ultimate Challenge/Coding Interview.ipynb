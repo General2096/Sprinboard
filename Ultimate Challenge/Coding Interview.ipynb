{
 "cells": [
  {
   "cell_type": "code",
   "execution_count": null,
   "id": "34ca4e28",
   "metadata": {},
   "outputs": [],
   "source": [
    "import csv\n",
    "with open(\"./iris.csv\", \"r\") as csvfile:\n",
    "    reader_variable = csv.reader(csvfile, delimiter=\",\")\n",
    "    for row in reader_variable:\n",
    "        print(row)"
   ]
  },
  {
   "cell_type": "code",
   "execution_count": null,
   "id": "0f42e72d",
   "metadata": {},
   "outputs": [],
   "source": [
    "import json\n",
    "\n",
    "with open('json_data.json') as json_file:\n",
    "    data = json.load(json_file)\n",
    "    print(data)"
   ]
  },
  {
   "cell_type": "code",
   "execution_count": null,
   "id": "22e39ac0",
   "metadata": {},
   "outputs": [],
   "source": [
    "spam = {'color': 'red', 'age': 42}\n",
    "for v in spam.values():\n",
    "    print(v)\n",
    "    \n",
    "red\n",
    "42"
   ]
  },
  {
   "cell_type": "code",
   "execution_count": null,
   "id": "8e00370b",
   "metadata": {},
   "outputs": [],
   "source": [
    "for k in spam.keys():\n",
    "    print(k)\n",
    "    \n",
    "color\n",
    "age"
   ]
  },
  {
   "cell_type": "code",
   "execution_count": null,
   "id": "059a04ad",
   "metadata": {},
   "outputs": [],
   "source": [
    "for i in spam.items():\n",
    "    print(i)\n",
    "    \n",
    "('color', 'red')\n",
    "('age', 42)"
   ]
  },
  {
   "cell_type": "code",
   "execution_count": null,
   "id": "c7a69255",
   "metadata": {},
   "outputs": [],
   "source": [
    ">>> spam = {'color': 'red', 'age': 42}\n",
    ">>>\n",
    ">>> for k, v in spam.items():\n",
    ">>>     print('Key: {} Value: {}'.format(k, str(v)))\n",
    "Key: age Value: 42\n",
    "Key: color Value: red"
   ]
  },
  {
   "cell_type": "code",
   "execution_count": null,
   "id": "4f649f52",
   "metadata": {},
   "outputs": [],
   "source": [
    ">>> picnic_items = {'apples': 5, 'cups': 2}\n",
    "\n",
    ">>> 'I am bringing {} cups.'.format(str(picnic_items.get('cups', 0)))\n",
    "'I am bringing 2 cups.'"
   ]
  },
  {
   "cell_type": "code",
   "execution_count": null,
   "id": "1c376fab",
   "metadata": {},
   "outputs": [],
   "source": [
    "spam = {'name': 'Pooka', 'age': 5}\n",
    ">>> spam.setdefault('color', 'black')\n",
    "'black'"
   ]
  },
  {
   "cell_type": "code",
   "execution_count": null,
   "id": "343e48d8",
   "metadata": {},
   "outputs": [],
   "source": [
    ">>> import pprint\n",
    ">>>\n",
    ">>> message = 'It was a bright cold day in April, and the clocks were striking\n",
    ">>> thirteen.'\n",
    ">>> count = {}\n",
    ">>>\n",
    ">>> for character in message:\n",
    ">>>     count.setdefault(character, 0)\n",
    ">>>     count[character] = count[character] + 1\n",
    ">>>\n",
    ">>> pprint.pprint(count)"
   ]
  },
  {
   "cell_type": "code",
   "execution_count": null,
   "id": "78efbee0",
   "metadata": {},
   "outputs": [],
   "source": [
    ">>> x = {'a': 1, 'b': 2}\n",
    ">>> y = {'b': 3, 'c': 4}\n",
    ">>> z = {**x, **y}\n",
    ">>> z\n",
    "{'c': 4, 'a': 1, 'b': 3}"
   ]
  },
  {
   "cell_type": "code",
   "execution_count": null,
   "id": "47f85551",
   "metadata": {},
   "outputs": [],
   "source": [
    "A set is an unordered collection with no duplicate elements.\n",
    "\n",
    "TypeError: 'set' object does not support indexing"
   ]
  },
  {
   "cell_type": "code",
   "execution_count": null,
   "id": "c0003271",
   "metadata": {},
   "outputs": [],
   "source": [
    ">>> s = {1, 2, 3}\n",
    ">>> s = set([1, 2, 3])"
   ]
  },
  {
   "cell_type": "code",
   "execution_count": null,
   "id": "552f818c",
   "metadata": {},
   "outputs": [],
   "source": [
    "union (unique combined elements)\n",
    "intersection (common elements)\n",
    "difference (unique to first)"
   ]
  },
  {
   "cell_type": "code",
   "execution_count": null,
   "id": "c7fccc11",
   "metadata": {},
   "outputs": [],
   "source": [
    ">>> data = [1, 2, 3, 4, 5]\n",
    ">>> result = itertools.accumulate(data, operator.mul)\n",
    ">>> for each in result:\n",
    ">>>    print(each)\n",
    "1\n",
    "2\n",
    "6\n",
    "24\n",
    "120"
   ]
  },
  {
   "cell_type": "code",
   "execution_count": null,
   "id": "5426eb33",
   "metadata": {},
   "outputs": [],
   "source": [
    ">>> shapes = ['circle', 'triangle', 'square',]\n",
    ">>> result = itertools.combinations(shapes, 2)\n",
    ">>> for each in result:\n",
    ">>>    print(each)\n",
    "('circle', 'triangle')\n",
    "('circle', 'square')\n",
    "('triangle', 'square')"
   ]
  },
  {
   "cell_type": "code",
   "execution_count": null,
   "id": "a9f6ac19",
   "metadata": {},
   "outputs": [],
   "source": [
    ">> shapes = ['circle', 'triangle', 'square']\n",
    ">>> result = itertools.combinations_with_replacement(shapes, 2)\n",
    ">>> for each in result:\n",
    ">>>    print(each)\n",
    "('circle', 'circle')\n",
    "('circle', 'triangle')\n",
    "('circle', 'square')\n",
    "('triangle', 'triangle')\n",
    "('triangle', 'square')\n",
    "('square', 'square')"
   ]
  },
  {
   "cell_type": "code",
   "execution_count": null,
   "id": "64d4d3f4",
   "metadata": {},
   "outputs": [],
   "source": [
    ">>> shapes = ['circle', 'triangle', 'square', 'pentagon']\n",
    ">>> selections = [True, False, True, False]\n",
    ">>> result = itertools.compress(shapes, selections)\n",
    ">>> for each in result:\n",
    ">>>    print(each)\n",
    "circle\n",
    "square"
   ]
  },
  {
   "cell_type": "code",
   "execution_count": null,
   "id": "7dfdc164",
   "metadata": {},
   "outputs": [],
   "source": [
    "dropwhile()\n",
    "\n",
    "Make an iterator that drops elements from the iterable as long as the predicate is true; afterwards, returns every element."
   ]
  },
  {
   "cell_type": "code",
   "execution_count": null,
   "id": "e83e048e",
   "metadata": {},
   "outputs": [],
   "source": [
    ">>> data = [1, 2, 3, 4, 5, 6, 7, 8, 9, 10, 1]\n",
    ">>> result = itertools.dropwhile(lambda x: x<5, data)\n",
    ">>> for each in result:\n",
    ">>>    print(each)\n",
    "5\n",
    "6\n",
    "7\n",
    "8\n",
    "9\n",
    "10\n",
    "1"
   ]
  },
  {
   "cell_type": "code",
   "execution_count": null,
   "id": "6b46e1af",
   "metadata": {},
   "outputs": [],
   "source": [
    "filterfalse()\n",
    "\n",
    "Makes an iterator that filters elements from iterable returning only those for which the predicate is False."
   ]
  },
  {
   "cell_type": "code",
   "execution_count": null,
   "id": "4ffa4133",
   "metadata": {},
   "outputs": [],
   "source": []
  },
  {
   "cell_type": "code",
   "execution_count": null,
   "id": "5d77a8e7",
   "metadata": {},
   "outputs": [],
   "source": []
  },
  {
   "cell_type": "code",
   "execution_count": null,
   "id": "67126ad0",
   "metadata": {},
   "outputs": [],
   "source": []
  },
  {
   "cell_type": "code",
   "execution_count": null,
   "id": "e7869c5c",
   "metadata": {},
   "outputs": [],
   "source": []
  }
 ],
 "metadata": {
  "kernelspec": {
   "display_name": "Python 3 (ipykernel)",
   "language": "python",
   "name": "python3"
  },
  "language_info": {
   "codemirror_mode": {
    "name": "ipython",
    "version": 3
   },
   "file_extension": ".py",
   "mimetype": "text/x-python",
   "name": "python",
   "nbconvert_exporter": "python",
   "pygments_lexer": "ipython3",
   "version": "3.9.7"
  }
 },
 "nbformat": 4,
 "nbformat_minor": 5
}
