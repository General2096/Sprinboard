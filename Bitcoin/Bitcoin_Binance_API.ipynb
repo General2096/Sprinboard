{
 "cells": [
  {
   "cell_type": "code",
   "execution_count": 1,
   "id": "bb2a58c3",
   "metadata": {},
   "outputs": [],
   "source": [
    "Bin_API_KEY = 'xxx'\n",
    "Bin_Sec_KEY = 'xxx'"
   ]
  },
  {
   "cell_type": "code",
   "execution_count": 2,
   "id": "123b0bef",
   "metadata": {},
   "outputs": [],
   "source": [
    "#!pip install python-binance"
   ]
  },
  {
   "cell_type": "code",
   "execution_count": 3,
   "id": "ed8b6ff3",
   "metadata": {},
   "outputs": [],
   "source": [
    "from binance import Client, ThreadedWebsocketManager, ThreadedDepthCacheManager\n",
    "import pandas as pd"
   ]
  },
  {
   "cell_type": "code",
   "execution_count": 4,
   "id": "72ae96ec",
   "metadata": {},
   "outputs": [],
   "source": [
    "client = Client(Bin_API_KEY, Bin_Sec_KEY)"
   ]
  },
  {
   "cell_type": "code",
   "execution_count": 5,
   "id": "d8db770c",
   "metadata": {},
   "outputs": [],
   "source": [
    "#  [\n",
    "#   [\n",
    "#     1499040000000,      // Open time\n",
    "#     \"0.01634790\",       // Open\n",
    "#     \"0.80000000\",       // High\n",
    "#     \"0.01575800\",       // Low\n",
    "#     \"0.01577100\",       // Close\n",
    "#     \"148976.11427815\",  // Volume\n",
    "#     1499644799999,      // Close time\n",
    "#     \"2434.19055334\",    // Quote asset volume\n",
    "#     308,                // Number of trades\n",
    "#     \"1756.87402397\",    // Taker buy base asset volume\n",
    "#     \"28.46694368\",      // Taker buy quote asset volume\n",
    "#     \"17928899.62484339\" // Ignore.\n",
    "#   ]\n",
    "# ]"
   ]
  },
  {
   "cell_type": "code",
   "execution_count": 6,
   "id": "649774a7",
   "metadata": {},
   "outputs": [],
   "source": [
    "historical = client.get_historical_klines('BTCUSDT', Client.KLINE_INTERVAL_1DAY, '1 Jan 2011')"
   ]
  },
  {
   "cell_type": "code",
   "execution_count": 7,
   "id": "076e8998",
   "metadata": {},
   "outputs": [],
   "source": [
    "hist_df = pd.DataFrame(historical)"
   ]
  },
  {
   "cell_type": "code",
   "execution_count": 8,
   "id": "da5f1450",
   "metadata": {},
   "outputs": [],
   "source": [
    "hist_df.columns = ['Date', 'Open', 'High', 'Low', 'Close', 'Volume', 'Close Time', 'Quote Asset Volume', \n",
    "                    'Number of Trades', 'TB Base Volume', 'TB Quote Volume', 'Ignore']"
   ]
  },
  {
   "cell_type": "code",
   "execution_count": 9,
   "id": "497ee40c",
   "metadata": {},
   "outputs": [],
   "source": [
    "hist_df['Date'] = pd.to_datetime(hist_df['Date']/1000, unit='s')\n",
    "hist_df['Close Time'] = pd.to_datetime(hist_df['Close Time']/1000, unit='s')"
   ]
  },
  {
   "cell_type": "code",
   "execution_count": 10,
   "id": "50ace923",
   "metadata": {},
   "outputs": [],
   "source": [
    "numeric_columns = ['Open', 'High', 'Low', 'Close', 'Volume', 'Quote Asset Volume', 'TB Base Volume', 'TB Quote Volume']"
   ]
  },
  {
   "cell_type": "code",
   "execution_count": 11,
   "id": "5a8731ba",
   "metadata": {},
   "outputs": [],
   "source": [
    "hist_df[numeric_columns] = hist_df[numeric_columns].apply(pd.to_numeric, axis=1)"
   ]
  },
  {
   "cell_type": "code",
   "execution_count": 12,
   "id": "71528eb9",
   "metadata": {},
   "outputs": [],
   "source": [
    "#hist_df"
   ]
  },
  {
   "cell_type": "code",
   "execution_count": 13,
   "id": "68f203a4",
   "metadata": {},
   "outputs": [],
   "source": [
    "hist_df.to_csv(r'Data/Binance-Bitcoin.csv', index = False)"
   ]
  }
 ],
 "metadata": {
  "kernelspec": {
   "display_name": "Python 3 (ipykernel)",
   "language": "python",
   "name": "python3"
  },
  "language_info": {
   "codemirror_mode": {
    "name": "ipython",
    "version": 3
   },
   "file_extension": ".py",
   "mimetype": "text/x-python",
   "name": "python",
   "nbconvert_exporter": "python",
   "pygments_lexer": "ipython3",
   "version": "3.9.7"
  }
 },
 "nbformat": 4,
 "nbformat_minor": 5
}
